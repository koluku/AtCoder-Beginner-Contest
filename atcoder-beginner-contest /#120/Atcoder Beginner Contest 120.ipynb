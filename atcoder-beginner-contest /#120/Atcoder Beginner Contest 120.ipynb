{
 "cells": [
  {
   "cell_type": "code",
   "execution_count": null,
   "metadata": {},
   "outputs": [],
   "source": [
    "# A"
   ]
  },
  {
   "cell_type": "code",
   "execution_count": 13,
   "metadata": {
    "scrolled": false
   },
   "outputs": [
    {
     "name": "stdout",
     "output_type": "stream",
     "text": [
      "9 8 7\n",
      "0\n"
     ]
    }
   ],
   "source": [
    "import math\n",
    "a, b, c = [int(x) for x in input().split()]\n",
    "if a*c <= b:\n",
    "    print(math.floor(c))\n",
    "else:\n",
    "    print(math.floor(b/a))"
   ]
  },
  {
   "cell_type": "code",
   "execution_count": null,
   "metadata": {},
   "outputs": [],
   "source": [
    "#B"
   ]
  },
  {
   "cell_type": "code",
   "execution_count": 39,
   "metadata": {
    "scrolled": true
   },
   "outputs": [
    {
     "name": "stdout",
     "output_type": "stream",
     "text": [
      "100 50 4\n",
      "[50, 25, 10, 5, 2, 1]\n",
      "5\n"
     ]
    }
   ],
   "source": [
    "a, b, k = [int(x) for x in input().split()]\n",
    "al = set()\n",
    "bl = set()\n",
    "for i in range(1, a+1):\n",
    "    if a%i == 0:\n",
    "        al.add(i)\n",
    "for i in range(1, b+1):\n",
    "    if b%i == 0:\n",
    "        bl.add(i)\n",
    "kk = list(al & bl)\n",
    "kk.sort(reverse=True)\n",
    "print(kk[k-1])"
   ]
  },
  {
   "cell_type": "code",
   "execution_count": null,
   "metadata": {},
   "outputs": [],
   "source": [
    "#C"
   ]
  },
  {
   "cell_type": "code",
   "execution_count": 86,
   "metadata": {
    "scrolled": false
   },
   "outputs": [
    {
     "name": "stdout",
     "output_type": "stream",
     "text": [
      "0011\n",
      "4\n"
     ]
    }
   ],
   "source": [
    "s = list(input())\n",
    "count = 0\n",
    "flag = True\n",
    "while flag:\n",
    "    if  len(s) < 2:\n",
    "        flag = False\n",
    "        break\n",
    "    for i in range(len(s)-1):\n",
    "        if s[i:i+2] == [\"0\", \"1\"] or s[i:i+2] == [\"1\", \"0\"]:\n",
    "            s.pop(i)\n",
    "            s.pop(i)\n",
    "            count += 2\n",
    "            break\n",
    "        elif i == len(s)-2:\n",
    "            flag = False\n",
    "            break\n",
    "print(count)"
   ]
  },
  {
   "cell_type": "code",
   "execution_count": 85,
   "metadata": {},
   "outputs": [],
   "source": [
    "#D"
   ]
  },
  {
   "cell_type": "code",
   "execution_count": 32,
   "metadata": {},
   "outputs": [
    {
     "data": {
      "text/plain": [
       "0"
      ]
     },
     "execution_count": 32,
     "metadata": {},
     "output_type": "execute_result"
    }
   ],
   "source": [
    "1%1"
   ]
  },
  {
   "cell_type": "code",
   "execution_count": null,
   "metadata": {},
   "outputs": [],
   "source": []
  }
 ],
 "metadata": {
  "kernelspec": {
   "display_name": "Python 3",
   "language": "python",
   "name": "python3"
  }
 },
 "nbformat": 4,
 "nbformat_minor": 2
}
