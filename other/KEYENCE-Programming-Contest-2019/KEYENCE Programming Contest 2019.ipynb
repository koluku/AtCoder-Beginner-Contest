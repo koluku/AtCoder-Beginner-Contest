{
 "cells": [
  {
   "cell_type": "code",
   "execution_count": 15,
   "metadata": {
    "scrolled": true
   },
   "outputs": [
    {
     "name": "stdout",
     "output_type": "stream",
     "text": [
      "1 4 7 9\n",
      "YES\n"
     ]
    }
   ],
   "source": [
    "b = [int(i) for i in input().split()]\n",
    "b.sort()\n",
    "if b == [1, 4, 7, 9]:\n",
    "    print(\"YES\")\n",
    "else:\n",
    "    print(\"NO\")"
   ]
  },
  {
   "cell_type": "code",
   "execution_count": 17,
   "metadata": {
    "scrolled": true
   },
   "outputs": [
    {
     "name": "stdout",
     "output_type": "stream",
     "text": [
      "kokeyenceko\n",
      "NO\n"
     ]
    }
   ],
   "source": [
    "import re\n",
    "input_string = input()\n",
    "keyence = \"keyence\"\n",
    "patterns = ['^.*(keyence)$', '^k.*eyence$', '^ke.*yence$', '^key.*ence$', '^keye.*nce$', '^keyen.*ce$', '^keyenc.*e$', '^keyence.*$']\n",
    "flag = False\n",
    "for i in range(len(patterns)):\n",
    "    result = re.match(patterns[i], input_string)\n",
    "    if result:\n",
    "        flag = True\n",
    "        break\n",
    "if flag == True:\n",
    "    print(\"YES\")\n",
    "else:\n",
    "    print(\"NO\")"
   ]
  },
  {
   "cell_type": "code",
   "execution_count": 9,
   "metadata": {
    "scrolled": false
   },
   "outputs": [
    {
     "name": "stdout",
     "output_type": "stream",
     "text": [
      "12\n",
      "757232153 372327760 440075441 195848680 354974235 458054863 463477172 740174259 615762794 632963102 529866931 64991604\n",
      "74164189 98239366 465611891 362739947 147060907 118867039 63189252 78303147 501410831 110823640 122948912 572905212\n",
      "5\n"
     ]
    }
   ],
   "source": [
    "N = int(input())\n",
    "A = [int(i) for i in input().split()]\n",
    "B = [int(i) for i in input().split()]\n",
    "if sum(A) < sum(B):\n",
    "    print(-1)\n",
    "else:\n",
    "    num, fix = 0, 0\n",
    "    for i in range(N):\n",
    "        if A[i] - B[i] <  0:\n",
    "            num += 1\n",
    "            fix += B[i] - A[i]\n",
    "    if num != 0:\n",
    "        ret = []\n",
    "        for i in range(N):\n",
    "            if A[i] - B[i] > 0:\n",
    "                ret.append(A[i] - B[i])\n",
    "        ret.sort(reverse=True)\n",
    "        su = 0\n",
    "        for i in range(len(ret)):\n",
    "            su += ret[i]\n",
    "            num += 1\n",
    "            if su >= fix:\n",
    "                break\n",
    "    print(num)"
   ]
  },
  {
   "cell_type": "markdown",
   "metadata": {},
   "source": [
    "12\n",
    "757232153 372327760 440075441 195848680 354974235 458054863 463477172 740174259 615762794 632963102 529866931 64991604\n",
    "74164189 98239366 465611891 362739947 147060907 118867039 63189252 78303147 501410831 110823640 122948912 572905212\n"
   ]
  }
 ],
 "metadata": {
  "kernelspec": {
   "display_name": "Python 3",
   "language": "python",
   "name": "python3"
  },
  "language_info": {
   "codemirror_mode": {
    "name": "ipython",
    "version": 3
   },
   "file_extension": ".py",
   "mimetype": "text/x-python",
   "name": "python",
   "nbconvert_exporter": "python",
   "pygments_lexer": "ipython3",
   "version": "3.7.1"
  }
 },
 "nbformat": 4,
 "nbformat_minor": 2
}
